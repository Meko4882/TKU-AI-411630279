{
  "nbformat": 4,
  "nbformat_minor": 0,
  "metadata": {
    "colab": {
      "provenance": [],
      "authorship_tag": "ABX9TyPOhVec1Dif1w2gp/VRAewb",
      "include_colab_link": true
    },
    "kernelspec": {
      "name": "python3",
      "display_name": "Python 3"
    },
    "language_info": {
      "name": "python"
    }
  },
  "cells": [
    {
      "cell_type": "markdown",
      "metadata": {
        "id": "view-in-github",
        "colab_type": "text"
      },
      "source": [
        "<a href=\"https://colab.research.google.com/github/Meko4882/TKU-AI-411630279/blob/main/0927ipynb.ipynb\" target=\"_parent\"><img src=\"https://colab.research.google.com/assets/colab-badge.svg\" alt=\"Open In Colab\"/></a>"
      ]
    },
    {
      "cell_type": "code",
      "execution_count": 1,
      "metadata": {
        "id": "67bNFnUkTtKe"
      },
      "outputs": [],
      "source": [
        "import matplotlib.pyplot as plt # 繪圖函式庫"
      ]
    },
    {
      "cell_type": "code",
      "source": [
        "#繪製(黃)色x標記\n",
        "plt.plot([9,9.2,9.6,7.5,6.7,7], [9.4,9.2,9.2,9.2,7.1,7.4], 'yx' )\n",
        "plt.plot([9,9.2,9.6,7.5,6.7,7], [9.4,9.2,9.2,9.2,7.1,7.4], 'yx' )\n",
        "#繪製(綠)色x標記 \n",
        "plt.plot([7.2,7.3,7.2,7.3,7.2,7.3,7.3 ], [10.3,10.5,9.2,10.2,9.7,10.1,10.1 ], 'gx' )\n",
        "plt.plot([6.5,9.0], [7.8,12.5], 'b--' ) # 繪製製黑色 虚線 \n",
        "plt.ylabel('H cm') # 設定顯示Y文字\n",
        "plt.xlabel('W cm') # 設定顯示X文字\n",
        "\n",
        "#縮製圖表\n",
        "plt.legend(('Orange' 'Lemons'),loc= 'upper right' )\n",
        "plt.show()"
      ],
      "metadata": {
        "colab": {
          "base_uri": "https://localhost:8080/",
          "height": 279
        },
        "id": "lP3BWmJtiqmT",
        "outputId": "c7c56d8a-3a84-4c31-b7f9-6a6d8d9b053e"
      },
      "execution_count": 6,
      "outputs": [
        {
          "output_type": "display_data",
          "data": {
            "text/plain": [
              "<Figure size 432x288 with 1 Axes>"
            ],
            "image/png": "[encoded data removed]"
          },
          "metadata": {
            "needs_background": "light"
          }
        }
      ]
    },
    {
      "cell_type": "code",
      "source": [],
      "metadata": {
        "id": "h03qe-oykR7t"
      },
      "execution_count": null,
      "outputs": []
    }
  ]
}